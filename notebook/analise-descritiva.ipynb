{
 "cells": [
  {
   "cell_type": "markdown",
   "metadata": {},
   "source": [
    "# Análise Descritiva\n",
    "\n",
    "O objetivo deste noteebok é realizar a análise descritiva dos dados previamente tratados."
   ]
  },
  {
   "cell_type": "code",
   "execution_count": 6,
   "metadata": {},
   "outputs": [],
   "source": [
    "import pandas as pd\n",
    "import seaborn as sns \n",
    "import matplotlib.pyplot as plt\n",
    "import seaborn as sns"
   ]
  },
  {
   "cell_type": "code",
   "execution_count": 7,
   "metadata": {},
   "outputs": [
    {
     "data": {
      "text/html": [
       "<div>\n",
       "<style scoped>\n",
       "    .dataframe tbody tr th:only-of-type {\n",
       "        vertical-align: middle;\n",
       "    }\n",
       "\n",
       "    .dataframe tbody tr th {\n",
       "        vertical-align: top;\n",
       "    }\n",
       "\n",
       "    .dataframe thead th {\n",
       "        text-align: right;\n",
       "    }\n",
       "</style>\n",
       "<table border=\"1\" class=\"dataframe\">\n",
       "  <thead>\n",
       "    <tr style=\"text-align: right;\">\n",
       "      <th></th>\n",
       "      <th>Unnamed: 0</th>\n",
       "      <th>data_base</th>\n",
       "      <th>uf</th>\n",
       "      <th>tcb</th>\n",
       "      <th>sr</th>\n",
       "      <th>cliente</th>\n",
       "      <th>ocupacao</th>\n",
       "      <th>cnae_secao</th>\n",
       "      <th>cnae_subclasse</th>\n",
       "      <th>porte</th>\n",
       "      <th>...</th>\n",
       "      <th>a_vencer_ate_90_dias</th>\n",
       "      <th>a_vencer_de_91_ate_360_dias</th>\n",
       "      <th>a_vencer_de_361_ate_1080_dias</th>\n",
       "      <th>a_vencer_de_1081_ate_1800_dias</th>\n",
       "      <th>a_vencer_de_1801_ate_5400_dias</th>\n",
       "      <th>a_vencer_acima_de_5400_dias</th>\n",
       "      <th>vencido_acima_de_15_dias</th>\n",
       "      <th>carteira_ativa</th>\n",
       "      <th>carteira_inadimplida_arrastada</th>\n",
       "      <th>ativo_problematico</th>\n",
       "    </tr>\n",
       "  </thead>\n",
       "  <tbody>\n",
       "    <tr>\n",
       "      <th>0</th>\n",
       "      <td>0</td>\n",
       "      <td>2019-01-31</td>\n",
       "      <td>AC</td>\n",
       "      <td>Bancário</td>\n",
       "      <td>S1</td>\n",
       "      <td>PF</td>\n",
       "      <td>PF - Aposentado/pensionista</td>\n",
       "      <td>-</td>\n",
       "      <td>-</td>\n",
       "      <td>PF - Acima de 20 salários mínimos</td>\n",
       "      <td>...</td>\n",
       "      <td>3721637.92</td>\n",
       "      <td>760416.19</td>\n",
       "      <td>72595.19</td>\n",
       "      <td>24140.51</td>\n",
       "      <td>3415.71</td>\n",
       "      <td>0.0</td>\n",
       "      <td>114464.33</td>\n",
       "      <td>4696669.85</td>\n",
       "      <td>76633.38</td>\n",
       "      <td>211160.12</td>\n",
       "    </tr>\n",
       "    <tr>\n",
       "      <th>1</th>\n",
       "      <td>1</td>\n",
       "      <td>2019-01-31</td>\n",
       "      <td>AC</td>\n",
       "      <td>Bancário</td>\n",
       "      <td>S1</td>\n",
       "      <td>PF</td>\n",
       "      <td>PF - Aposentado/pensionista</td>\n",
       "      <td>-</td>\n",
       "      <td>-</td>\n",
       "      <td>PF - Acima de 20 salários mínimos</td>\n",
       "      <td>...</td>\n",
       "      <td>0.00</td>\n",
       "      <td>0.00</td>\n",
       "      <td>0.00</td>\n",
       "      <td>0.00</td>\n",
       "      <td>0.00</td>\n",
       "      <td>0.0</td>\n",
       "      <td>1172.29</td>\n",
       "      <td>1172.29</td>\n",
       "      <td>1172.29</td>\n",
       "      <td>1172.29</td>\n",
       "    </tr>\n",
       "    <tr>\n",
       "      <th>2</th>\n",
       "      <td>2</td>\n",
       "      <td>2019-01-31</td>\n",
       "      <td>AC</td>\n",
       "      <td>Bancário</td>\n",
       "      <td>S1</td>\n",
       "      <td>PF</td>\n",
       "      <td>PF - Aposentado/pensionista</td>\n",
       "      <td>-</td>\n",
       "      <td>-</td>\n",
       "      <td>PF - Até 1 salário mínimo</td>\n",
       "      <td>...</td>\n",
       "      <td>367896.40</td>\n",
       "      <td>101758.20</td>\n",
       "      <td>3546.23</td>\n",
       "      <td>0.00</td>\n",
       "      <td>0.00</td>\n",
       "      <td>0.0</td>\n",
       "      <td>43619.99</td>\n",
       "      <td>516820.82</td>\n",
       "      <td>27160.93</td>\n",
       "      <td>34533.03</td>\n",
       "    </tr>\n",
       "    <tr>\n",
       "      <th>3</th>\n",
       "      <td>3</td>\n",
       "      <td>2019-01-31</td>\n",
       "      <td>AC</td>\n",
       "      <td>Bancário</td>\n",
       "      <td>S1</td>\n",
       "      <td>PF</td>\n",
       "      <td>PF - Aposentado/pensionista</td>\n",
       "      <td>-</td>\n",
       "      <td>-</td>\n",
       "      <td>PF - Até 1 salário mínimo</td>\n",
       "      <td>...</td>\n",
       "      <td>0.00</td>\n",
       "      <td>0.00</td>\n",
       "      <td>0.00</td>\n",
       "      <td>0.00</td>\n",
       "      <td>0.00</td>\n",
       "      <td>0.0</td>\n",
       "      <td>633.64</td>\n",
       "      <td>633.64</td>\n",
       "      <td>633.64</td>\n",
       "      <td>633.64</td>\n",
       "    </tr>\n",
       "    <tr>\n",
       "      <th>4</th>\n",
       "      <td>4</td>\n",
       "      <td>2019-01-31</td>\n",
       "      <td>AC</td>\n",
       "      <td>Bancário</td>\n",
       "      <td>S1</td>\n",
       "      <td>PF</td>\n",
       "      <td>PF - Aposentado/pensionista</td>\n",
       "      <td>-</td>\n",
       "      <td>-</td>\n",
       "      <td>PF - Indisponível</td>\n",
       "      <td>...</td>\n",
       "      <td>306506.28</td>\n",
       "      <td>90295.75</td>\n",
       "      <td>2837.23</td>\n",
       "      <td>0.00</td>\n",
       "      <td>0.00</td>\n",
       "      <td>0.0</td>\n",
       "      <td>38691.05</td>\n",
       "      <td>438330.31</td>\n",
       "      <td>21891.32</td>\n",
       "      <td>49630.99</td>\n",
       "    </tr>\n",
       "  </tbody>\n",
       "</table>\n",
       "<p>5 rows × 24 columns</p>\n",
       "</div>"
      ],
      "text/plain": [
       "   Unnamed: 0   data_base  uf       tcb  sr cliente  \\\n",
       "0           0  2019-01-31  AC  Bancário  S1      PF   \n",
       "1           1  2019-01-31  AC  Bancário  S1      PF   \n",
       "2           2  2019-01-31  AC  Bancário  S1      PF   \n",
       "3           3  2019-01-31  AC  Bancário  S1      PF   \n",
       "4           4  2019-01-31  AC  Bancário  S1      PF   \n",
       "\n",
       "                      ocupacao cnae_secao cnae_subclasse  \\\n",
       "0  PF - Aposentado/pensionista          -              -   \n",
       "1  PF - Aposentado/pensionista          -              -   \n",
       "2  PF - Aposentado/pensionista          -              -   \n",
       "3  PF - Aposentado/pensionista          -              -   \n",
       "4  PF - Aposentado/pensionista          -              -   \n",
       "\n",
       "                                           porte  ... a_vencer_ate_90_dias  \\\n",
       "0  PF - Acima de 20 salários mínimos              ...           3721637.92   \n",
       "1  PF - Acima de 20 salários mínimos              ...                 0.00   \n",
       "2  PF - Até 1 salário mínimo                      ...            367896.40   \n",
       "3  PF - Até 1 salário mínimo                      ...                 0.00   \n",
       "4  PF - Indisponível                              ...            306506.28   \n",
       "\n",
       "  a_vencer_de_91_ate_360_dias a_vencer_de_361_ate_1080_dias  \\\n",
       "0                   760416.19                      72595.19   \n",
       "1                        0.00                          0.00   \n",
       "2                   101758.20                       3546.23   \n",
       "3                        0.00                          0.00   \n",
       "4                    90295.75                       2837.23   \n",
       "\n",
       "  a_vencer_de_1081_ate_1800_dias  a_vencer_de_1801_ate_5400_dias  \\\n",
       "0                       24140.51                         3415.71   \n",
       "1                           0.00                            0.00   \n",
       "2                           0.00                            0.00   \n",
       "3                           0.00                            0.00   \n",
       "4                           0.00                            0.00   \n",
       "\n",
       "   a_vencer_acima_de_5400_dias  vencido_acima_de_15_dias  carteira_ativa  \\\n",
       "0                          0.0                 114464.33      4696669.85   \n",
       "1                          0.0                   1172.29         1172.29   \n",
       "2                          0.0                  43619.99       516820.82   \n",
       "3                          0.0                    633.64          633.64   \n",
       "4                          0.0                  38691.05       438330.31   \n",
       "\n",
       "   carteira_inadimplida_arrastada  ativo_problematico  \n",
       "0                        76633.38           211160.12  \n",
       "1                         1172.29             1172.29  \n",
       "2                        27160.93            34533.03  \n",
       "3                          633.64              633.64  \n",
       "4                        21891.32            49630.99  \n",
       "\n",
       "[5 rows x 24 columns]"
      ]
     },
     "execution_count": 7,
     "metadata": {},
     "output_type": "execute_result"
    }
   ],
   "source": [
    "df = pd.read_csv(\"../output/planilhas_concatenadas.csv\")\n",
    "df.head()"
   ]
  },
  {
   "cell_type": "code",
   "execution_count": 8,
   "metadata": {},
   "outputs": [
    {
     "name": "stdout",
     "output_type": "stream",
     "text": [
      "<class 'pandas.core.frame.DataFrame'>\n",
      "RangeIndex: 971827 entries, 0 to 971826\n",
      "Data columns (total 24 columns):\n",
      " #   Column                          Non-Null Count   Dtype  \n",
      "---  ------                          --------------   -----  \n",
      " 0   Unnamed: 0                      971827 non-null  int64  \n",
      " 1   data_base                       971827 non-null  object \n",
      " 2   uf                              971827 non-null  object \n",
      " 3   tcb                             971827 non-null  object \n",
      " 4   sr                              888267 non-null  object \n",
      " 5   cliente                         971827 non-null  object \n",
      " 6   ocupacao                        971827 non-null  object \n",
      " 7   cnae_secao                      971827 non-null  object \n",
      " 8   cnae_subclasse                  971827 non-null  object \n",
      " 9   porte                           971827 non-null  object \n",
      " 10  modalidade                      971827 non-null  object \n",
      " 11  origem                          971827 non-null  object \n",
      " 12  indexador                       971827 non-null  object \n",
      " 13  numero_de_operacoes             971827 non-null  object \n",
      " 14  a_vencer_ate_90_dias            971827 non-null  float64\n",
      " 15  a_vencer_de_91_ate_360_dias     971827 non-null  float64\n",
      " 16  a_vencer_de_361_ate_1080_dias   971827 non-null  float64\n",
      " 17  a_vencer_de_1081_ate_1800_dias  971827 non-null  float64\n",
      " 18  a_vencer_de_1801_ate_5400_dias  971827 non-null  float64\n",
      " 19  a_vencer_acima_de_5400_dias     971827 non-null  float64\n",
      " 20  vencido_acima_de_15_dias        971827 non-null  float64\n",
      " 21  carteira_ativa                  971827 non-null  float64\n",
      " 22  carteira_inadimplida_arrastada  971827 non-null  float64\n",
      " 23  ativo_problematico              971827 non-null  float64\n",
      "dtypes: float64(10), int64(1), object(13)\n",
      "memory usage: 177.9+ MB\n"
     ]
    }
   ],
   "source": [
    "df.info()"
   ]
  },
  {
   "cell_type": "code",
   "execution_count": 9,
   "metadata": {},
   "outputs": [],
   "source": [
    "colunas_numericas = ['a_vencer_ate_90_dias','a_vencer_de_91_ate_360_dias','a_vencer_de_361_ate_1080_dias',\n",
    "'a_vencer_de_1081_ate_1800_dias','a_vencer_de_1801_ate_5400_dias','a_vencer_acima_de_5400_dias',\n",
    "'vencido_acima_de_15_dias','carteira_ativa','carteira_inadimplida_arrastada','ativo_problematico']\n",
    "\n",
    "pd.set_option('display.float_format', lambda x: '%.2f' % x)"
   ]
  },
  {
   "cell_type": "code",
   "execution_count": 10,
   "metadata": {},
   "outputs": [
    {
     "data": {
      "text/html": [
       "<div>\n",
       "<style scoped>\n",
       "    .dataframe tbody tr th:only-of-type {\n",
       "        vertical-align: middle;\n",
       "    }\n",
       "\n",
       "    .dataframe tbody tr th {\n",
       "        vertical-align: top;\n",
       "    }\n",
       "\n",
       "    .dataframe thead th {\n",
       "        text-align: right;\n",
       "    }\n",
       "</style>\n",
       "<table border=\"1\" class=\"dataframe\">\n",
       "  <thead>\n",
       "    <tr style=\"text-align: right;\">\n",
       "      <th></th>\n",
       "      <th>a_vencer_ate_90_dias</th>\n",
       "      <th>a_vencer_de_91_ate_360_dias</th>\n",
       "      <th>a_vencer_de_361_ate_1080_dias</th>\n",
       "      <th>a_vencer_de_1081_ate_1800_dias</th>\n",
       "      <th>a_vencer_de_1801_ate_5400_dias</th>\n",
       "      <th>a_vencer_acima_de_5400_dias</th>\n",
       "      <th>vencido_acima_de_15_dias</th>\n",
       "      <th>carteira_ativa</th>\n",
       "      <th>carteira_inadimplida_arrastada</th>\n",
       "      <th>ativo_problematico</th>\n",
       "    </tr>\n",
       "  </thead>\n",
       "  <tbody>\n",
       "    <tr>\n",
       "      <th>count</th>\n",
       "      <td>971827.00</td>\n",
       "      <td>971827.00</td>\n",
       "      <td>971827.00</td>\n",
       "      <td>971827.00</td>\n",
       "      <td>971827.00</td>\n",
       "      <td>971827.00</td>\n",
       "      <td>971827.00</td>\n",
       "      <td>971827.00</td>\n",
       "      <td>971827.00</td>\n",
       "      <td>971827.00</td>\n",
       "    </tr>\n",
       "    <tr>\n",
       "      <th>mean</th>\n",
       "      <td>12174771.61</td>\n",
       "      <td>4678560.34</td>\n",
       "      <td>456299.35</td>\n",
       "      <td>63990.52</td>\n",
       "      <td>31175.64</td>\n",
       "      <td>1.01</td>\n",
       "      <td>1731164.12</td>\n",
       "      <td>19135962.60</td>\n",
       "      <td>1260572.93</td>\n",
       "      <td>1791814.59</td>\n",
       "    </tr>\n",
       "    <tr>\n",
       "      <th>std</th>\n",
       "      <td>87919000.73</td>\n",
       "      <td>33426059.31</td>\n",
       "      <td>3623853.21</td>\n",
       "      <td>610340.62</td>\n",
       "      <td>493996.16</td>\n",
       "      <td>54.57</td>\n",
       "      <td>14210101.54</td>\n",
       "      <td>135599745.39</td>\n",
       "      <td>10819062.07</td>\n",
       "      <td>14724790.12</td>\n",
       "    </tr>\n",
       "    <tr>\n",
       "      <th>min</th>\n",
       "      <td>0.00</td>\n",
       "      <td>0.00</td>\n",
       "      <td>0.00</td>\n",
       "      <td>0.00</td>\n",
       "      <td>0.00</td>\n",
       "      <td>0.00</td>\n",
       "      <td>0.00</td>\n",
       "      <td>1.01</td>\n",
       "      <td>0.00</td>\n",
       "      <td>0.00</td>\n",
       "    </tr>\n",
       "    <tr>\n",
       "      <th>25%</th>\n",
       "      <td>9134.35</td>\n",
       "      <td>3927.43</td>\n",
       "      <td>0.00</td>\n",
       "      <td>0.00</td>\n",
       "      <td>0.00</td>\n",
       "      <td>0.00</td>\n",
       "      <td>1124.31</td>\n",
       "      <td>28589.90</td>\n",
       "      <td>0.00</td>\n",
       "      <td>530.29</td>\n",
       "    </tr>\n",
       "    <tr>\n",
       "      <th>50%</th>\n",
       "      <td>147302.62</td>\n",
       "      <td>61992.27</td>\n",
       "      <td>2081.49</td>\n",
       "      <td>0.00</td>\n",
       "      <td>0.00</td>\n",
       "      <td>0.00</td>\n",
       "      <td>41334.02</td>\n",
       "      <td>365982.13</td>\n",
       "      <td>25618.92</td>\n",
       "      <td>37652.63</td>\n",
       "    </tr>\n",
       "    <tr>\n",
       "      <th>75%</th>\n",
       "      <td>2024263.31</td>\n",
       "      <td>774717.10</td>\n",
       "      <td>42389.47</td>\n",
       "      <td>623.95</td>\n",
       "      <td>0.00</td>\n",
       "      <td>0.00</td>\n",
       "      <td>442733.30</td>\n",
       "      <td>3595740.19</td>\n",
       "      <td>307448.68</td>\n",
       "      <td>421066.71</td>\n",
       "    </tr>\n",
       "    <tr>\n",
       "      <th>max</th>\n",
       "      <td>5581369744.12</td>\n",
       "      <td>1888495264.63</td>\n",
       "      <td>255548319.52</td>\n",
       "      <td>70322519.44</td>\n",
       "      <td>130053643.36</td>\n",
       "      <td>15830.73</td>\n",
       "      <td>1758708429.31</td>\n",
       "      <td>7956705384.95</td>\n",
       "      <td>1448540912.52</td>\n",
       "      <td>1816185920.97</td>\n",
       "    </tr>\n",
       "  </tbody>\n",
       "</table>\n",
       "</div>"
      ],
      "text/plain": [
       "       a_vencer_ate_90_dias  a_vencer_de_91_ate_360_dias  \\\n",
       "count             971827.00                    971827.00   \n",
       "mean            12174771.61                   4678560.34   \n",
       "std             87919000.73                  33426059.31   \n",
       "min                    0.00                         0.00   \n",
       "25%                 9134.35                      3927.43   \n",
       "50%               147302.62                     61992.27   \n",
       "75%              2024263.31                    774717.10   \n",
       "max           5581369744.12                1888495264.63   \n",
       "\n",
       "       a_vencer_de_361_ate_1080_dias  a_vencer_de_1081_ate_1800_dias  \\\n",
       "count                      971827.00                       971827.00   \n",
       "mean                       456299.35                        63990.52   \n",
       "std                       3623853.21                       610340.62   \n",
       "min                             0.00                            0.00   \n",
       "25%                             0.00                            0.00   \n",
       "50%                          2081.49                            0.00   \n",
       "75%                         42389.47                          623.95   \n",
       "max                     255548319.52                     70322519.44   \n",
       "\n",
       "       a_vencer_de_1801_ate_5400_dias  a_vencer_acima_de_5400_dias  \\\n",
       "count                       971827.00                    971827.00   \n",
       "mean                         31175.64                         1.01   \n",
       "std                         493996.16                        54.57   \n",
       "min                              0.00                         0.00   \n",
       "25%                              0.00                         0.00   \n",
       "50%                              0.00                         0.00   \n",
       "75%                              0.00                         0.00   \n",
       "max                      130053643.36                     15830.73   \n",
       "\n",
       "       vencido_acima_de_15_dias  carteira_ativa  \\\n",
       "count                 971827.00       971827.00   \n",
       "mean                 1731164.12     19135962.60   \n",
       "std                 14210101.54    135599745.39   \n",
       "min                        0.00            1.01   \n",
       "25%                     1124.31        28589.90   \n",
       "50%                    41334.02       365982.13   \n",
       "75%                   442733.30      3595740.19   \n",
       "max               1758708429.31   7956705384.95   \n",
       "\n",
       "       carteira_inadimplida_arrastada  ativo_problematico  \n",
       "count                       971827.00           971827.00  \n",
       "mean                       1260572.93          1791814.59  \n",
       "std                       10819062.07         14724790.12  \n",
       "min                              0.00                0.00  \n",
       "25%                              0.00              530.29  \n",
       "50%                          25618.92            37652.63  \n",
       "75%                         307448.68           421066.71  \n",
       "max                     1448540912.52       1816185920.97  "
      ]
     },
     "execution_count": 10,
     "metadata": {},
     "output_type": "execute_result"
    }
   ],
   "source": [
    "df[colunas_numericas].describe()"
   ]
  },
  {
   "cell_type": "code",
   "execution_count": 11,
   "metadata": {},
   "outputs": [
    {
     "data": {
      "text/plain": [
       "uf\n",
       "AC    28282\n",
       "AL    34753\n",
       "AM    32795\n",
       "AP    28081\n",
       "BA    38627\n",
       "CE    37165\n",
       "DF    36309\n",
       "ES    34618\n",
       "GO    37498\n",
       "MA    34874\n",
       "MG    40011\n",
       "MS    36400\n",
       "MT    36146\n",
       "PA    36753\n",
       "PB    35562\n",
       "PE    37191\n",
       "PI    33324\n",
       "PR    41915\n",
       "RJ    39997\n",
       "RN    35227\n",
       "RO    33128\n",
       "RR    28011\n",
       "RS    43709\n",
       "SC    43487\n",
       "SE    33348\n",
       "SP    42947\n",
       "TO    31669\n",
       "Name: cliente, dtype: int64"
      ]
     },
     "execution_count": 11,
     "metadata": {},
     "output_type": "execute_result"
    }
   ],
   "source": [
    "client_uf = df.groupby('uf')['cliente'].count()\n",
    "client_uf "
   ]
  },
  {
   "cell_type": "code",
   "execution_count": 12,
   "metadata": {},
   "outputs": [],
   "source": [
    "#definindo um tema para os gráficos\n",
    "sns.set_theme(style='darkgrid')\n"
   ]
  },
  {
   "cell_type": "code",
   "execution_count": 13,
   "metadata": {},
   "outputs": [
    {
     "data": {
      "text/plain": [
       "<seaborn.axisgrid.FacetGrid at 0x17a603de490>"
      ]
     },
     "execution_count": 13,
     "metadata": {},
     "output_type": "execute_result"
    },
    {
     "data": {
      "image/png": "[encoded data removed]",
      "text/plain": [
       "<Figure size 2500x500 with 1 Axes>"
      ]
     },
     "metadata": {},
     "output_type": "display_data"
    }
   ],
   "source": [
    "sns.catplot(data = df , x = \"porte\", kind= \"count\", height= 5, aspect= 5)"
   ]
  },
  {
   "cell_type": "code",
   "execution_count": 14,
   "metadata": {},
   "outputs": [
    {
     "data": {
      "text/plain": [
       "<Axes: xlabel='uf'>"
      ]
     },
     "execution_count": 14,
     "metadata": {},
     "output_type": "execute_result"
    },
    {
     "data": {
      "image/png": "[encoded data removed]",
      "text/plain": [
       "<Figure size 640x480 with 1 Axes>"
      ]
     },
     "metadata": {},
     "output_type": "display_data"
    }
   ],
   "source": [
    "df.groupby('uf')['a_vencer_ate_90_dias'].sum().plot(kind='bar')"
   ]
  },
  {
   "cell_type": "code",
   "execution_count": 15,
   "metadata": {},
   "outputs": [
    {
     "data": {
      "text/plain": [
       "<Axes: xlabel='uf'>"
      ]
     },
     "execution_count": 15,
     "metadata": {},
     "output_type": "execute_result"
    },
    {
     "data": {
      "image/png": "[encoded data removed]",
      "text/plain": [
       "<Figure size 640x480 with 1 Axes>"
      ]
     },
     "metadata": {},
     "output_type": "display_data"
    }
   ],
   "source": [
    "df.groupby('uf')['a_vencer_de_91_ate_360_dias'].sum().plot(kind='bar')"
   ]
  },
  {
   "cell_type": "code",
   "execution_count": 16,
   "metadata": {},
   "outputs": [
    {
     "data": {
      "text/plain": [
       "<Axes: xlabel='uf'>"
      ]
     },
     "execution_count": 16,
     "metadata": {},
     "output_type": "execute_result"
    },
    {
     "data": {
      "image/png": "[encoded data removed]",
      "text/plain": [
       "<Figure size 640x480 with 1 Axes>"
      ]
     },
     "metadata": {},
     "output_type": "display_data"
    }
   ],
   "source": [
    "df.groupby('uf')['a_vencer_de_361_ate_1080_dias'].sum().plot(kind='bar')"
   ]
  },
  {
   "cell_type": "code",
   "execution_count": 17,
   "metadata": {},
   "outputs": [
    {
     "data": {
      "text/plain": [
       "uf\n",
       "AC     1098668054.19\n",
       "AL     5372860289.00\n",
       "AM     5949317492.59\n",
       "AP     1192174271.85\n",
       "BA    23712254283.72\n",
       "CE    13935992508.77\n",
       "DF    10322320882.31\n",
       "ES     6718476349.09\n",
       "GO    12573634547.76\n",
       "MA     8292502496.75\n",
       "MG    39317195820.33\n",
       "MS     6807310454.50\n",
       "MT     6246765809.87\n",
       "PA     9698538070.42\n",
       "PB     7505541674.73\n",
       "PE    17218466462.91\n",
       "PI     4855178479.72\n",
       "PR    25000065923.10\n",
       "RJ    43673323562.94\n",
       "RN     6464714075.81\n",
       "RO     2531649809.87\n",
       "RR      907438962.07\n",
       "RS    21258844297.33\n",
       "SC    16828869282.63\n",
       "SE     3500273389.28\n",
       "SP   140459314027.00\n",
       "TO     2002341154.28\n",
       "Name: a_vencer_de_361_ate_1080_dias, dtype: float64"
      ]
     },
     "execution_count": 17,
     "metadata": {},
     "output_type": "execute_result"
    }
   ],
   "source": [
    "df.groupby('uf')['a_vencer_de_361_ate_1080_dias'].sum()"
   ]
  },
  {
   "cell_type": "code",
   "execution_count": null,
   "metadata": {},
   "outputs": [],
   "source": []
  }
 ],
 "metadata": {
  "kernelspec": {
   "display_name": ".venv",
   "language": "python",
   "name": "python3"
  },
  "language_info": {
   "codemirror_mode": {
    "name": "ipython",
    "version": 3
   },
   "file_extension": ".py",
   "mimetype": "text/x-python",
   "name": "python",
   "nbconvert_exporter": "python",
   "pygments_lexer": "ipython3",
   "version": "3.11.5"
  }
 },
 "nbformat": 4,
 "nbformat_minor": 2
}
