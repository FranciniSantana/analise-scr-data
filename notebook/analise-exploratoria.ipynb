{
 "cells": [
  {
   "cell_type": "markdown",
   "metadata": {},
   "source": [
    "# Análise Eploratória\n",
    "\n",
    "O objetivo deste notebook é entender melhor os dados do dataset para poder aplicar o melhor tratamento dos dados para as análises estatísticas."
   ]
  },
  {
   "cell_type": "code",
   "execution_count": 61,
   "metadata": {},
   "outputs": [],
   "source": [
    "import pandas as pd\n",
    "import os\n",
    "import time"
   ]
  },
  {
   "cell_type": "code",
   "execution_count": null,
   "metadata": {},
   "outputs": [],
   "source": [
    "df = pd.read_csv(\"c:/Users/frans/Documents/projetos/analise-scr-data/data/planilha_201901.csv\",delimiter = \";\")\n",
    "\n"
   ]
  },
  {
   "cell_type": "code",
   "execution_count": null,
   "metadata": {},
   "outputs": [],
   "source": [
    "#Saber quantas linhas e colunas a tabela possui\n",
    "df.shape"
   ]
  },
  {
   "cell_type": "code",
   "execution_count": null,
   "metadata": {},
   "outputs": [],
   "source": [
    "#checar os tipos de dados das colunas\n",
    "df.info()"
   ]
  },
  {
   "cell_type": "code",
   "execution_count": null,
   "metadata": {},
   "outputs": [],
   "source": [
    "#Ver os primeiros valores da tabela\n",
    "df.head(3)"
   ]
  },
  {
   "cell_type": "code",
   "execution_count": null,
   "metadata": {},
   "outputs": [],
   "source": [
    "#Checar como os valores das que deveriam ser numéricas nas colunas estão sendo apresentados\n",
    "\n",
    "df [['a_vencer_ate_90_dias','a_vencer_de_91_ate_360_dias','a_vencer_de_361_ate_1080_dias',\n",
    "'a_vencer_de_1081_ate_1800_dias','a_vencer_de_1801_ate_5400_dias','a_vencer_acima_de_5400_dias',\n",
    "'vencido_acima_de_15_dias','carteira_ativa','carteira_inadimplida_arrastada','ativo_problematico']].head()"
   ]
  },
  {
   "cell_type": "code",
   "execution_count": null,
   "metadata": {},
   "outputs": [],
   "source": [
    "#checar como o valor do campo de data está sendo apresentado\n",
    "df['data_base'].head() #ano-mes-dia"
   ]
  },
  {
   "cell_type": "code",
   "execution_count": null,
   "metadata": {},
   "outputs": [],
   "source": [
    "#checar se alguma coluna possui algum valor nulo\n",
    "df.isnull().sum()"
   ]
  },
  {
   "cell_type": "code",
   "execution_count": null,
   "metadata": {},
   "outputs": [],
   "source": [
    "#checar se tem alguma coluna com na\n",
    "df.isna().sum() "
   ]
  },
  {
   "cell_type": "code",
   "execution_count": null,
   "metadata": {},
   "outputs": [],
   "source": [
    "# Limpeza - Manter os dados apenas de modalidade de cartão de crédito\n",
    "#df_credito = df[df['modalidade'] == 'PF - Cartão de crédito']"
   ]
  },
  {
   "cell_type": "code",
   "execution_count": null,
   "metadata": {},
   "outputs": [],
   "source": [
    "df_credito = df[df['modalidade'] == 'PF - Cartão de crédito'].copy()\n"
   ]
  },
  {
   "cell_type": "code",
   "execution_count": null,
   "metadata": {},
   "outputs": [],
   "source": [
    "df_credito.head(3)"
   ]
  },
  {
   "cell_type": "code",
   "execution_count": null,
   "metadata": {},
   "outputs": [],
   "source": [
    "df_credito.isnull().sum()"
   ]
  },
  {
   "cell_type": "code",
   "execution_count": null,
   "metadata": {},
   "outputs": [],
   "source": [
    "# Criando uma lista apenas com os nomes dos campos das colunas númericas\n",
    "\n",
    "colunas_numericas = ['a_vencer_ate_90_dias','a_vencer_de_91_ate_360_dias','a_vencer_de_361_ate_1080_dias',\n",
    "'a_vencer_de_1081_ate_1800_dias','a_vencer_de_1801_ate_5400_dias','a_vencer_acima_de_5400_dias',\n",
    "'vencido_acima_de_15_dias','carteira_ativa','carteira_inadimplida_arrastada','ativo_problematico']\n",
    "\n"
   ]
  },
  {
   "cell_type": "code",
   "execution_count": null,
   "metadata": {},
   "outputs": [],
   "source": [
    "df_credito[colunas_numericas] = df_credito[colunas_numericas].apply(lambda x: x.str.replace(\",\", \".\", regex=False).astype(float))\n"
   ]
  },
  {
   "cell_type": "code",
   "execution_count": null,
   "metadata": {},
   "outputs": [],
   "source": [
    "df_credito.head(2)"
   ]
  },
  {
   "cell_type": "code",
   "execution_count": null,
   "metadata": {},
   "outputs": [],
   "source": [
    "df_credito.info()"
   ]
  },
  {
   "cell_type": "code",
   "execution_count": null,
   "metadata": {},
   "outputs": [],
   "source": [
    "#transformar o campo em formato de data\n",
    "df_credito['data_base'] = pd.to_datetime(df_credito['data_base'])"
   ]
  },
  {
   "cell_type": "code",
   "execution_count": null,
   "metadata": {},
   "outputs": [],
   "source": [
    "\n",
    "df_credito.info()\n"
   ]
  },
  {
   "cell_type": "code",
   "execution_count": null,
   "metadata": {},
   "outputs": [],
   "source": [
    "#configurar o formato de float para duas casas decimais\n",
    "pd.set_option('display.float_format', lambda x: '%.2f' % x)"
   ]
  },
  {
   "cell_type": "code",
   "execution_count": null,
   "metadata": {},
   "outputs": [],
   "source": [
    "#descrever os valores dos campos numéricos\n",
    "df_credito[colunas_numericas].describe()"
   ]
  },
  {
   "cell_type": "code",
   "execution_count": null,
   "metadata": {},
   "outputs": [],
   "source": [
    "colunas_nao_numericas = ['uf','tcb','sr','cliente','ocupacao','cnae_secao',\n",
    "'cnae_subclasse','porte','modalidade','origem','indexador','numero_de_operacoes']"
   ]
  },
  {
   "cell_type": "code",
   "execution_count": null,
   "metadata": {},
   "outputs": [],
   "source": [
    "df_credito[colunas_nao_numericas].describe()"
   ]
  }
 ],
 "metadata": {
  "kernelspec": {
   "display_name": ".venv",
   "language": "python",
   "name": "python3"
  },
  "language_info": {
   "codemirror_mode": {
    "name": "ipython",
    "version": 3
   },
   "file_extension": ".py",
   "mimetype": "text/x-python",
   "name": "python",
   "nbconvert_exporter": "python",
   "pygments_lexer": "ipython3",
   "version": "3.11.5"
  }
 },
 "nbformat": 4,
 "nbformat_minor": 2
}
