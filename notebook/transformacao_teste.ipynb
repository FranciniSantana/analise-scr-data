{
 "cells": [
  {
   "cell_type": "code",
   "execution_count": 3,
   "metadata": {},
   "outputs": [
    {
     "name": "stdout",
     "output_type": "stream",
     "text": [
      "<class 'pandas.core.frame.DataFrame'>\n",
      "Index: 13612 entries, 0 to 623559\n",
      "Data columns (total 23 columns):\n",
      " #   Column                          Non-Null Count  Dtype         \n",
      "---  ------                          --------------  -----         \n",
      " 0   data_base                       13612 non-null  datetime64[ns]\n",
      " 1   uf                              13612 non-null  object        \n",
      " 2   tcb                             13612 non-null  object        \n",
      " 3   sr                              13612 non-null  object        \n",
      " 4   cliente                         13612 non-null  object        \n",
      " 5   ocupacao                        13612 non-null  object        \n",
      " 6   cnae_secao                      13612 non-null  object        \n",
      " 7   cnae_subclasse                  13612 non-null  object        \n",
      " 8   porte                           13612 non-null  object        \n",
      " 9   modalidade                      13612 non-null  object        \n",
      " 10  origem                          13612 non-null  object        \n",
      " 11  indexador                       13612 non-null  object        \n",
      " 12  numero_de_operacoes             13612 non-null  object        \n",
      " 13  a_vencer_ate_90_dias            13612 non-null  float64       \n",
      " 14  a_vencer_de_91_ate_360_dias     13612 non-null  float64       \n",
      " 15  a_vencer_de_361_ate_1080_dias   13612 non-null  float64       \n",
      " 16  a_vencer_de_1081_ate_1800_dias  13612 non-null  float64       \n",
      " 17  a_vencer_de_1801_ate_5400_dias  13612 non-null  float64       \n",
      " 18  a_vencer_acima_de_5400_dias     13612 non-null  float64       \n",
      " 19  vencido_acima_de_15_dias        13612 non-null  float64       \n",
      " 20  carteira_ativa                  13612 non-null  float64       \n",
      " 21  carteira_inadimplida_arrastada  13612 non-null  float64       \n",
      " 22  ativo_problematico              13612 non-null  float64       \n",
      "dtypes: datetime64[ns](1), float64(10), object(12)\n",
      "memory usage: 2.5+ MB\n",
      "None\n"
     ]
    }
   ],
   "source": [
    "import pandas as pd\n",
    "\n",
    "# Carregue o DataFrame original\n",
    "df = pd.read_csv(\"c:/Users/frans/Documents/projetos/analise-scr-data/data/planilha_201901.csv\", delimiter=\";\")\n",
    "\n",
    "# Crie uma cópia do DataFrame original para df_credito\n",
    "df_credito = df[df['modalidade'] == 'PF - Cartão de crédito'].copy()\n",
    "\n",
    "# Defina as colunas numéricas\n",
    "colunas_numericas = ['a_vencer_ate_90_dias', 'a_vencer_de_91_ate_360_dias', 'a_vencer_de_361_ate_1080_dias',\n",
    "                     'a_vencer_de_1081_ate_1800_dias', 'a_vencer_de_1801_ate_5400_dias', 'a_vencer_acima_de_5400_dias',\n",
    "                     'vencido_acima_de_15_dias', 'carteira_ativa', 'carteira_inadimplida_arrastada', 'ativo_problematico']\n",
    "\n",
    "# Substitua vírgulas por pontos e converta para float\n",
    "df_credito[colunas_numericas] = df_credito[colunas_numericas].apply(lambda x: x.str.replace(\",\", \".\", regex=False).astype(float))\n",
    "\n",
    "df_credito['data_base'] = pd.to_datetime(df_credito['data_base'])\n",
    "\n",
    "# Verifique as informações do DataFrame modificado\n",
    "print(df_credito.info())\n"
   ]
  }
 ],
 "metadata": {
  "kernelspec": {
   "display_name": ".venv",
   "language": "python",
   "name": "python3"
  },
  "language_info": {
   "codemirror_mode": {
    "name": "ipython",
    "version": 3
   },
   "file_extension": ".py",
   "mimetype": "text/x-python",
   "name": "python",
   "nbconvert_exporter": "python",
   "pygments_lexer": "ipython3",
   "version": "3.11.5"
  }
 },
 "nbformat": 4,
 "nbformat_minor": 2
}
